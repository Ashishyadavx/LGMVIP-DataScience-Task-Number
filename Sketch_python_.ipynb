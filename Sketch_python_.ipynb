{
  "nbformat": 4,
  "nbformat_minor": 0,
  "metadata": {
    "colab": {
      "provenance": []
    },
    "kernelspec": {
      "name": "python3",
      "display_name": "Python 3"
    },
    "language_info": {
      "name": "python"
    }
  },
  "cells": [
    {
      "cell_type": "code",
      "source": [
        "import cv2\n",
        "import numpy as np\n",
        "from google.colab import files\n",
        "import matplotlib.pyplot as plt\n",
        "import os"
      ],
      "metadata": {
        "id": "2GRST8PjFO0f"
      },
      "execution_count": 7,
      "outputs": []
    },
    {
      "cell_type": "code",
      "execution_count": 13,
      "metadata": {
        "colab": {
          "base_uri": "https://localhost:8080/"
        },
        "id": "yyhGq9OtEHoF",
        "outputId": "a1ea9692-34c0-4084-87b5-2d2f01f6bb15"
      },
      "outputs": [
        {
          "output_type": "execute_result",
          "data": {
            "text/plain": [
              "True"
            ]
          },
          "metadata": {},
          "execution_count": 13
        }
      ],
      "source": [
        "image=cv2.imread('/content/virat.jpg')\n",
        "grey_filter = cv2.cvtColor(image, cv2.COLOR_BGR2GRAY)\n",
        "invert = cv2.bitwise_not(grey_filter)\n",
        "blur = cv2.GaussianBlur(invert, (21, 21), 0)\n",
        "invertBlur = cv2.bitwise_not(blur)\n",
        "sketch_filter = cv2.divide(grey_filter, invertBlur, scale=250.0)\n",
        "cv2.imwrite('output.png',sketch_filter)"
      ]
    },
    {
      "cell_type": "code",
      "source": [],
      "metadata": {
        "id": "wlcAZtjDFOGw"
      },
      "execution_count": 6,
      "outputs": []
    }
  ]
}